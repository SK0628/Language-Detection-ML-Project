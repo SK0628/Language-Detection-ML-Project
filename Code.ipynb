{
 "cells": [
  {
   "cell_type": "code",
   "execution_count": 8,
   "id": "1be57b6a",
   "metadata": {},
   "outputs": [
    {
     "name": "stdout",
     "output_type": "stream",
     "text": [
      "📂 Scanning dataset in C:/Users/shiva/Downloads/Lang/Language Detection Dataset...\n",
      "🔍 Processing language folder: Gujarati\n"
     ]
    },
    {
     "name": "stderr",
     "output_type": "stream",
     "text": [
      "📁 Gujarati:  11%|█         | 2882/26441 [00:28<04:11, 93.62file/s] "
     ]
    },
    {
     "name": "stdout",
     "output_type": "stream",
     "text": [
      "❌ Error processing C:/Users/shiva/Downloads/Lang/Language Detection Dataset\\Gujarati\\12867.mp3: \n"
     ]
    },
    {
     "name": "stderr",
     "output_type": "stream",
     "text": [
      "📁 Gujarati:  84%|████████▍ | 22202/26441 [08:55<02:26, 29.01file/s]"
     ]
    },
    {
     "name": "stdout",
     "output_type": "stream",
     "text": [
      "❌ Error processing C:/Users/shiva/Downloads/Lang/Language Detection Dataset\\Gujarati\\5774.mp3: \n"
     ]
    },
    {
     "name": "stderr",
     "output_type": "stream",
     "text": [
      "📁 Gujarati: 100%|██████████| 26441/26441 [11:32<00:00, 38.15file/s]\n"
     ]
    },
    {
     "name": "stdout",
     "output_type": "stream",
     "text": [
      "🔍 Processing language folder: Hindi\n"
     ]
    },
    {
     "name": "stderr",
     "output_type": "stream",
     "text": [
      "📁 Hindi: 100%|██████████| 25462/25462 [14:49<00:00, 28.64file/s]\n"
     ]
    },
    {
     "name": "stdout",
     "output_type": "stream",
     "text": [
      "🔍 Processing language folder: Kannada\n"
     ]
    },
    {
     "name": "stderr",
     "output_type": "stream",
     "text": [
      "📁 Kannada: 100%|██████████| 22208/22208 [11:55<00:00, 31.05file/s]\n"
     ]
    },
    {
     "name": "stdout",
     "output_type": "stream",
     "text": [
      "🔍 Processing language folder: Marathi\n"
     ]
    },
    {
     "name": "stderr",
     "output_type": "stream",
     "text": [
      "📁 Marathi:  62%|██████▏   | 15671/25379 [08:47<04:24, 36.64file/s]"
     ]
    },
    {
     "name": "stdout",
     "output_type": "stream",
     "text": [
      "❌ Error processing C:/Users/shiva/Downloads/Lang/Language Detection Dataset\\Marathi\\24094.mp3: \n"
     ]
    },
    {
     "name": "stderr",
     "output_type": "stream",
     "text": [
      "📁 Marathi: 100%|██████████| 25379/25379 [14:51<00:00, 28.46file/s]\n"
     ]
    },
    {
     "name": "stdout",
     "output_type": "stream",
     "text": [
      "🔍 Processing language folder: Punjabi\n"
     ]
    },
    {
     "name": "stderr",
     "output_type": "stream",
     "text": [
      "📁 Punjabi:   5%|▌         | 1400/26229 [00:58<18:16, 22.65file/s]"
     ]
    },
    {
     "name": "stdout",
     "output_type": "stream",
     "text": [
      "❌ Error processing C:/Users/shiva/Downloads/Lang/Language Detection Dataset\\Punjabi\\11254.mp3: \n"
     ]
    },
    {
     "name": "stderr",
     "output_type": "stream",
     "text": [
      "📁 Punjabi:  75%|███████▍  | 19639/26229 [13:33<04:19, 25.37file/s]"
     ]
    },
    {
     "name": "stdout",
     "output_type": "stream",
     "text": [
      "❌ Error processing C:/Users/shiva/Downloads/Lang/Language Detection Dataset\\Punjabi\\4063.mp3: \n"
     ]
    },
    {
     "name": "stderr",
     "output_type": "stream",
     "text": [
      "📁 Punjabi: 100%|██████████| 26229/26229 [18:06<00:00, 24.14file/s]\n"
     ]
    },
    {
     "name": "stdout",
     "output_type": "stream",
     "text": [
      "🔍 Processing language folder: Telugu\n"
     ]
    },
    {
     "name": "stderr",
     "output_type": "stream",
     "text": [
      "📁 Telugu: 100%|██████████| 23656/23656 [19:00<00:00, 20.74file/s]   \n"
     ]
    },
    {
     "name": "stdout",
     "output_type": "stream",
     "text": [
      "\n",
      "✅ Saved features to mfcc_features.csv\n",
      "📊 Label Mapping: {'Gujarati': 0, 'Telugu': 1, 'Marathi': 2, 'Hindi': 3, 'Kannada': 4, 'Punjabi': 5}\n"
     ]
    }
   ],
   "source": [
    "import os\n",
    "import numpy as np\n",
    "import librosa\n",
    "import pandas as pd\n",
    "from tqdm import tqdm\n",
    "\n",
    "# Set parameters\n",
    "SAMPLE_RATE = 22050\n",
    "DURATION = 2  # seconds\n",
    "MFCC_FEATURES = 13\n",
    "DATASET_PATH = r\"C:/Users/shiva/Downloads/Lang/Language Detection Dataset\"\n",
    "OUTPUT_CSV = \"mfcc_features.csv\"\n",
    "\n",
    "# Function to extract MFCC\n",
    "def extract_mfcc(file_path, sample_rate=SAMPLE_RATE, duration=DURATION, mfcc_features=MFCC_FEATURES):\n",
    "    try:\n",
    "        audio, sr = librosa.load(file_path, sr=sample_rate, duration=duration)\n",
    "        if len(audio) < sample_rate * duration:\n",
    "            padding = int(sample_rate * duration - len(audio))\n",
    "            audio = np.pad(audio, (0, padding), 'constant')\n",
    "        mfcc_feat = librosa.feature.mfcc(y=audio, sr=sr, n_mfcc=mfcc_features)\n",
    "        mfcc_mean = np.mean(mfcc_feat.T, axis=0)\n",
    "        return mfcc_mean\n",
    "    except Exception as e:\n",
    "        print(f\"❌ Error processing {file_path}: {e}\")\n",
    "        return None\n",
    "\n",
    "# Main script\n",
    "data = []\n",
    "labels = []\n",
    "\n",
    "print(f\"📂 Scanning dataset in {DATASET_PATH}...\")\n",
    "\n",
    "for language in os.listdir(DATASET_PATH):\n",
    "    language_path = os.path.join(DATASET_PATH, language)\n",
    "    if os.path.isdir(language_path):\n",
    "        print(f\"🔍 Processing language folder: {language}\")\n",
    "        files = os.listdir(language_path)\n",
    "        for file in tqdm(files, desc=f\"📁 {language}\", unit=\"file\"):\n",
    "            file_path = os.path.join(language_path, file)\n",
    "            mfcc_feat = extract_mfcc(file_path)\n",
    "            if mfcc_feat is not None:\n",
    "                data.append(mfcc_feat)\n",
    "                labels.append(language)\n",
    "\n",
    "# Save the features\n",
    "if data:\n",
    "    df = pd.DataFrame(data)\n",
    "    df['label'] = labels\n",
    "    df.to_csv(OUTPUT_CSV, index=False)\n",
    "    print(f\"\\n✅ Saved features to {OUTPUT_CSV}\")\n",
    "    print(f\"📊 Label Mapping: {dict((label, idx) for idx, label in enumerate(set(labels)))}\")\n",
    "else:\n",
    "    print(\"⚠️ No features or labels to save. Check your dataset structure.\")\n"
   ]
  },
  {
   "cell_type": "code",
   "execution_count": 7,
   "id": "761f8738",
   "metadata": {},
   "outputs": [
    {
     "name": "stdout",
     "output_type": "stream",
     "text": [
      "✅ Model and LabelEncoder saved.\n",
      "✅ Accuracy: 0.66\n",
      "\n",
      "🔍 Classification Report:\n",
      "\n",
      "              precision    recall  f1-score   support\n",
      "\n",
      "    Gujarati       0.10      0.10      0.10      5288\n",
      "       Hindi       0.94      0.99      0.96      5092\n",
      "     Kannada       0.99      0.94      0.97      4442\n",
      "     Marathi       0.96      0.96      0.96      5076\n",
      "     Punjabi       0.10      0.10      0.10      5245\n",
      "      Telugu       0.96      0.95      0.95      4731\n",
      "\n",
      "    accuracy                           0.66     29874\n",
      "   macro avg       0.67      0.67      0.67     29874\n",
      "weighted avg       0.65      0.66      0.65     29874\n",
      "\n"
     ]
    },
    {
     "data": {
      "image/png": "[encoded data removed]",
      "text/plain": [
       "<Figure size 1000x700 with 2 Axes>"
      ]
     },
     "metadata": {},
     "output_type": "display_data"
    }
   ],
   "source": [
    "import pandas as pd\n",
    "import numpy as np\n",
    "from sklearn.model_selection import train_test_split\n",
    "from sklearn.preprocessing import LabelEncoder\n",
    "from sklearn.ensemble import RandomForestClassifier\n",
    "from sklearn.metrics import classification_report, confusion_matrix, accuracy_score\n",
    "import seaborn as sns\n",
    "import matplotlib.pyplot as plt\n",
    "\n",
    "# Load the dataset\n",
    "df = pd.read_csv(\"S:\\Microsoft VS Code\\mfcc_features.csv\")\n",
    "\n",
    "# Encode the 'label' column\n",
    "le = LabelEncoder()\n",
    "df[\"label_encoded\"] = le.fit_transform(df[\"label\"])\n",
    "\n",
    "# Features and target\n",
    "X = df.drop(columns=[\"label\", \"label_encoded\"])\n",
    "y = df[\"label_encoded\"]\n",
    "\n",
    "# Split the data\n",
    "X_train, X_test, y_train, y_test = train_test_split(\n",
    "    X, y, test_size=0.2, random_state=42, stratify=y\n",
    ")\n",
    "\n",
    "# Train the model\n",
    "clf = RandomForestClassifier(n_estimators=100, random_state=42)\n",
    "clf.fit(X_train, y_train)\n",
    "\n",
    "import joblib\n",
    "\n",
    "joblib.dump(clf, \"model.pkl\")\n",
    "joblib.dump(le, \"label_encoder.pkl\")\n",
    "\n",
    "print(\"✅ Model and LabelEncoder saved.\")\n",
    "\n",
    "\n",
    "# Predictions\n",
    "y_pred = clf.predict(X_test)\n",
    "\n",
    "# Evaluation\n",
    "print(f\"✅ Accuracy: {accuracy_score(y_test, y_pred):.2f}\\n\")\n",
    "print(\"🔍 Classification Report:\\n\")\n",
    "print(classification_report(y_test, y_pred, target_names=le.classes_))\n",
    "\n",
    "# Confusion matrix\n",
    "cm = confusion_matrix(y_test, y_pred)\n",
    "plt.figure(figsize=(10, 7))\n",
    "sns.heatmap(cm, annot=True, cmap=\"Blues\", fmt=\"d\",\n",
    "            xticklabels=le.classes_, yticklabels=le.classes_)\n",
    "plt.title(\"Confusion Matrix\")\n",
    "plt.xlabel(\"Predicted\")\n",
    "plt.ylabel(\"Actual\")\n",
    "plt.tight_layout()\n",
    "plt.show()\n"
   ]
  },
  {
   "cell_type": "code",
   "execution_count": 12,
   "id": "f90720d8",
   "metadata": {},
   "outputs": [
    {
     "name": "stdout",
     "output_type": "stream",
     "text": [
      "🎙 Recording for 50 seconds...\n"
     ]
    },
    {
     "name": "stderr",
     "output_type": "stream",
     "text": [
      "C:\\Users\\shiva\\AppData\\Local\\Packages\\PythonSoftwareFoundation.Python.3.11_qbz5n2kfra8p0\\LocalCache\\local-packages\\Python311\\site-packages\\sklearn\\utils\\validation.py:2739: UserWarning: X does not have valid feature names, but RandomForestClassifier was fitted with feature names\n",
      "  warnings.warn(\n"
     ]
    },
    {
     "name": "stdout",
     "output_type": "stream",
     "text": [
      "✅ Recording saved: live_audio.wav\n",
      "🧠 Predicted Language: Kannada\n",
      "💬 (Type what you said in Kannada for translation)\n"
     ]
    },
    {
     "ename": "TypeError",
     "evalue": "the JSON object must be str, bytes or bytearray, not NoneType",
     "output_type": "error",
     "traceback": [
      "\u001b[1;31m---------------------------------------------------------------------------\u001b[0m",
      "\u001b[1;31mTypeError\u001b[0m                                 Traceback (most recent call last)",
      "Cell \u001b[1;32mIn[12], line 87\u001b[0m\n\u001b[0;32m     84\u001b[0m     \u001b[38;5;28mprint\u001b[39m(\u001b[38;5;124m\"\u001b[39m\u001b[38;5;124m✅ Done\u001b[39m\u001b[38;5;124m\"\u001b[39m)\n\u001b[0;32m     86\u001b[0m \u001b[38;5;66;03m# Run it\u001b[39;00m\n\u001b[1;32m---> 87\u001b[0m \u001b[43mrun_translator\u001b[49m\u001b[43m(\u001b[49m\u001b[43m)\u001b[49m\n",
      "Cell \u001b[1;32mIn[12], line 82\u001b[0m, in \u001b[0;36mrun_translator\u001b[1;34m()\u001b[0m\n\u001b[0;32m     79\u001b[0m \u001b[38;5;28mprint\u001b[39m(\u001b[38;5;124mf\u001b[39m\u001b[38;5;124m\"\u001b[39m\u001b[38;5;124m💬 (Type what you said in \u001b[39m\u001b[38;5;132;01m{\u001b[39;00mlang_name\u001b[38;5;132;01m}\u001b[39;00m\u001b[38;5;124m for translation)\u001b[39m\u001b[38;5;124m\"\u001b[39m)\n\u001b[0;32m     80\u001b[0m user_input \u001b[38;5;241m=\u001b[39m \u001b[38;5;28minput\u001b[39m(\u001b[38;5;124m\"\u001b[39m\u001b[38;5;124mYour speech (text): \u001b[39m\u001b[38;5;124m\"\u001b[39m)\n\u001b[1;32m---> 82\u001b[0m translated_text \u001b[38;5;241m=\u001b[39m \u001b[43mtranslate_to_english\u001b[49m\u001b[43m(\u001b[49m\u001b[43muser_input\u001b[49m\u001b[43m,\u001b[49m\u001b[43m \u001b[49m\u001b[43msrc_code\u001b[49m\u001b[43m)\u001b[49m\n\u001b[0;32m     83\u001b[0m speak(translated_text)\n\u001b[0;32m     84\u001b[0m \u001b[38;5;28mprint\u001b[39m(\u001b[38;5;124m\"\u001b[39m\u001b[38;5;124m✅ Done\u001b[39m\u001b[38;5;124m\"\u001b[39m)\n",
      "Cell \u001b[1;32mIn[12], line 50\u001b[0m, in \u001b[0;36mtranslate_to_english\u001b[1;34m(text, source_lang)\u001b[0m\n\u001b[0;32m     48\u001b[0m \u001b[38;5;28;01mdef\u001b[39;00m \u001b[38;5;21mtranslate_to_english\u001b[39m(text, source_lang):\n\u001b[0;32m     49\u001b[0m     translator \u001b[38;5;241m=\u001b[39m Translator()\n\u001b[1;32m---> 50\u001b[0m     translated \u001b[38;5;241m=\u001b[39m \u001b[43mtranslator\u001b[49m\u001b[38;5;241;43m.\u001b[39;49m\u001b[43mtranslate\u001b[49m\u001b[43m(\u001b[49m\u001b[43mtext\u001b[49m\u001b[43m,\u001b[49m\u001b[43m \u001b[49m\u001b[43msrc\u001b[49m\u001b[38;5;241;43m=\u001b[39;49m\u001b[43msource_lang\u001b[49m\u001b[43m,\u001b[49m\u001b[43m \u001b[49m\u001b[43mdest\u001b[49m\u001b[38;5;241;43m=\u001b[39;49m\u001b[38;5;124;43m\"\u001b[39;49m\u001b[38;5;124;43men\u001b[39;49m\u001b[38;5;124;43m\"\u001b[39;49m\u001b[43m)\u001b[49m\n\u001b[0;32m     51\u001b[0m     \u001b[38;5;28mprint\u001b[39m(\u001b[38;5;124mf\u001b[39m\u001b[38;5;124m\"\u001b[39m\u001b[38;5;124m📝 Translated: \u001b[39m\u001b[38;5;132;01m{\u001b[39;00mtranslated\u001b[38;5;241m.\u001b[39mtext\u001b[38;5;132;01m}\u001b[39;00m\u001b[38;5;124m\"\u001b[39m)\n\u001b[0;32m     52\u001b[0m     \u001b[38;5;28;01mreturn\u001b[39;00m translated\u001b[38;5;241m.\u001b[39mtext\n",
      "File \u001b[1;32m~\\AppData\\Local\\Packages\\PythonSoftwareFoundation.Python.3.11_qbz5n2kfra8p0\\LocalCache\\local-packages\\Python311\\site-packages\\googletrans\\client.py:219\u001b[0m, in \u001b[0;36mTranslator.translate\u001b[1;34m(self, text, dest, src)\u001b[0m\n\u001b[0;32m    216\u001b[0m         \u001b[38;5;28;01mbreak\u001b[39;00m\n\u001b[0;32m    218\u001b[0m data \u001b[38;5;241m=\u001b[39m json\u001b[38;5;241m.\u001b[39mloads(resp)\n\u001b[1;32m--> 219\u001b[0m parsed \u001b[38;5;241m=\u001b[39m \u001b[43mjson\u001b[49m\u001b[38;5;241;43m.\u001b[39;49m\u001b[43mloads\u001b[49m\u001b[43m(\u001b[49m\u001b[43mdata\u001b[49m\u001b[43m[\u001b[49m\u001b[38;5;241;43m0\u001b[39;49m\u001b[43m]\u001b[49m\u001b[43m[\u001b[49m\u001b[38;5;241;43m2\u001b[39;49m\u001b[43m]\u001b[49m\u001b[43m)\u001b[49m\n\u001b[0;32m    220\u001b[0m \u001b[38;5;66;03m# not sure\u001b[39;00m\n\u001b[0;32m    221\u001b[0m should_spacing \u001b[38;5;241m=\u001b[39m parsed[\u001b[38;5;241m1\u001b[39m][\u001b[38;5;241m0\u001b[39m][\u001b[38;5;241m0\u001b[39m][\u001b[38;5;241m3\u001b[39m]\n",
      "File \u001b[1;32mC:\\Program Files\\WindowsApps\\PythonSoftwareFoundation.Python.3.11_3.11.2544.0_x64__qbz5n2kfra8p0\\Lib\\json\\__init__.py:339\u001b[0m, in \u001b[0;36mloads\u001b[1;34m(s, cls, object_hook, parse_float, parse_int, parse_constant, object_pairs_hook, **kw)\u001b[0m\n\u001b[0;32m    337\u001b[0m \u001b[38;5;28;01melse\u001b[39;00m:\n\u001b[0;32m    338\u001b[0m     \u001b[38;5;28;01mif\u001b[39;00m \u001b[38;5;129;01mnot\u001b[39;00m \u001b[38;5;28misinstance\u001b[39m(s, (\u001b[38;5;28mbytes\u001b[39m, \u001b[38;5;28mbytearray\u001b[39m)):\n\u001b[1;32m--> 339\u001b[0m         \u001b[38;5;28;01mraise\u001b[39;00m \u001b[38;5;167;01mTypeError\u001b[39;00m(\u001b[38;5;124mf\u001b[39m\u001b[38;5;124m'\u001b[39m\u001b[38;5;124mthe JSON object must be str, bytes or bytearray, \u001b[39m\u001b[38;5;124m'\u001b[39m\n\u001b[0;32m    340\u001b[0m                         \u001b[38;5;124mf\u001b[39m\u001b[38;5;124m'\u001b[39m\u001b[38;5;124mnot \u001b[39m\u001b[38;5;132;01m{\u001b[39;00ms\u001b[38;5;241m.\u001b[39m\u001b[38;5;18m__class__\u001b[39m\u001b[38;5;241m.\u001b[39m\u001b[38;5;18m__name__\u001b[39m\u001b[38;5;132;01m}\u001b[39;00m\u001b[38;5;124m'\u001b[39m)\n\u001b[0;32m    341\u001b[0m     s \u001b[38;5;241m=\u001b[39m s\u001b[38;5;241m.\u001b[39mdecode(detect_encoding(s), \u001b[38;5;124m'\u001b[39m\u001b[38;5;124msurrogatepass\u001b[39m\u001b[38;5;124m'\u001b[39m)\n\u001b[0;32m    343\u001b[0m \u001b[38;5;28;01mif\u001b[39;00m (\u001b[38;5;28mcls\u001b[39m \u001b[38;5;129;01mis\u001b[39;00m \u001b[38;5;28;01mNone\u001b[39;00m \u001b[38;5;129;01mand\u001b[39;00m object_hook \u001b[38;5;129;01mis\u001b[39;00m \u001b[38;5;28;01mNone\u001b[39;00m \u001b[38;5;129;01mand\u001b[39;00m\n\u001b[0;32m    344\u001b[0m         parse_int \u001b[38;5;129;01mis\u001b[39;00m \u001b[38;5;28;01mNone\u001b[39;00m \u001b[38;5;129;01mand\u001b[39;00m parse_float \u001b[38;5;129;01mis\u001b[39;00m \u001b[38;5;28;01mNone\u001b[39;00m \u001b[38;5;129;01mand\u001b[39;00m\n\u001b[0;32m    345\u001b[0m         parse_constant \u001b[38;5;129;01mis\u001b[39;00m \u001b[38;5;28;01mNone\u001b[39;00m \u001b[38;5;129;01mand\u001b[39;00m object_pairs_hook \u001b[38;5;129;01mis\u001b[39;00m \u001b[38;5;28;01mNone\u001b[39;00m \u001b[38;5;129;01mand\u001b[39;00m \u001b[38;5;129;01mnot\u001b[39;00m kw):\n",
      "\u001b[1;31mTypeError\u001b[0m: the JSON object must be str, bytes or bytearray, not NoneType"
     ]
    }
   ],
   "source": [
    "import numpy as np\n",
    "import sounddevice as sd\n",
    "from scipy.io.wavfile import write\n",
    "import librosa\n",
    "import joblib\n",
    "from gtts import gTTS\n",
    "import os\n",
    "from googletrans import Translator\n",
    "\n",
    "# Load trained model and encoder\n",
    "model = joblib.load(\"model.pkl\")\n",
    "label_encoder = joblib.load(\"label_encoder.pkl\")\n",
    "\n",
    "# -----------------------\n",
    "# 🎙 Record Audio\n",
    "# -----------------------\n",
    "def record_audio(filename=\"live_audio.wav\", duration=5, fs=22050):\n",
    "    print(\"🎙 Recording for\", duration, \"seconds...\")\n",
    "    audio = sd.rec(int(duration * fs), samplerate=fs, channels=1)\n",
    "    sd.wait()\n",
    "    audio_int16 = np.int16(audio / np.max(np.abs(audio)) * 32767)\n",
    "    write(filename, fs, audio_int16)\n",
    "    print(\"✅ Recording saved:\", filename)\n",
    "    return filename\n",
    "\n",
    "# -----------------------\n",
    "# 🎚 Feature Extraction (MFCC)\n",
    "# -----------------------\n",
    "def extract_features(file_path):\n",
    "    y, sr = librosa.load(file_path, sr=22050)\n",
    "    mfccs = librosa.feature.mfcc(y=y, sr=sr, n_mfcc=13)\n",
    "    mfccs_processed = np.mean(mfccs.T, axis=0)\n",
    "    return mfccs_processed.reshape(1, -1)\n",
    "\n",
    "# -----------------------\n",
    "# 🧠 Predict Language\n",
    "# -----------------------\n",
    "def predict_language(audio_path):\n",
    "    features = extract_features(audio_path)\n",
    "    prediction = model.predict(features)[0]\n",
    "    predicted_label = label_encoder.inverse_transform([prediction])[0]\n",
    "    print(f\"🧠 Predicted Language: {predicted_label}\")\n",
    "    return predicted_label\n",
    "\n",
    "# -----------------------\n",
    "# 🌍 Translate Text\n",
    "# -----------------------\n",
    "def translate_to_english(text, source_lang):\n",
    "    translator = Translator()\n",
    "    translated = translator.translate(text, src=source_lang, dest=\"en\")\n",
    "    print(f\"📝 Translated: {translated.text}\")\n",
    "    return translated.text\n",
    "\n",
    "# -----------------------\n",
    "# 🔊 Speak the Output\n",
    "# -----------------------\n",
    "def speak(text):\n",
    "    tts = gTTS(text)\n",
    "    tts.save(\"output.mp3\")\n",
    "    os.system(\"start output.mp3\" if os.name == \"nt\" else \"afplay output.mp3\")\n",
    "\n",
    "# -----------------------\n",
    "# 🔁 Main Translator\n",
    "# -----------------------\n",
    "def run_translator():\n",
    "    input(\"🔘 Press Enter to start...\")\n",
    "    audio_file = record_audio(duration=50)\n",
    "    lang_name = predict_language(audio_file)\n",
    "\n",
    "    # Map to language codes for Google Translate\n",
    "    lang_code_map = {\n",
    "        \"Hindi\": \"hi\", \"Telugu\": \"te\", \"Tamil\": \"ta\", \"Bengali\": \"bn\",\n",
    "        \"Gujarati\": \"gu\", \"Marathi\": \"mr\", \"Kannada\": \"kn\", \"Urdu\": \"ur\",\n",
    "        \"Odia\": \"or\", \"Punjabi\": \"pa\"\n",
    "    }\n",
    "    src_code = lang_code_map.get(lang_name, \"auto\")\n",
    "\n",
    "    # Simulate transcription (for now, ask user for input)\n",
    "    print(f\"💬 (Type what you said in {lang_name} for translation)\")\n",
    "    user_input = input(\"Your speech (text): \")\n",
    "\n",
    "    translated_text = translate_to_english(user_input, src_code)\n",
    "    speak(translated_text)\n",
    "    print(\"✅ Done\")\n",
    "\n",
    "# Run it\n",
    "run_translator()\n"
   ]
  }
 ],
 "metadata": {
  "kernelspec": {
   "display_name": "Python 3",
   "language": "python",
   "name": "python3"
  },
  "language_info": {
   "codemirror_mode": {
    "name": "ipython",
    "version": 3
   },
   "file_extension": ".py",
   "mimetype": "text/x-python",
   "name": "python",
   "nbconvert_exporter": "python",
   "pygments_lexer": "ipython3",
   "version": "3.11.9"
  }
 },
 "nbformat": 4,
 "nbformat_minor": 5
}
