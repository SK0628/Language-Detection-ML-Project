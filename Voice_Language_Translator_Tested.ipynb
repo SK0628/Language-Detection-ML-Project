{
 "cells": [
  {
   "cell_type": "markdown",
   "id": "d6c786ea",
   "metadata": {},
   "source": [
    "# 🎙️ Real-Time Multilingual Voice Translator\n",
    "This notebook records speech, detects the language, translates it into English, accepts a reply, and translates it back to the original language."
   ]
  },
  {
   "cell_type": "markdown",
   "id": "9a8f2ee1",
   "metadata": {},
   "source": [
    "## 🧠 Import Libraries and Initialize Components\n",
    "\n",
    "This section imports and initializes the essential libraries and variables used throughout the notebook:\n",
    "\n",
    "- `os`: Provides functions to interact with the operating system (e.g., file management).\n",
    "- `sounddevice`: Used to capture audio from the microphone.\n",
    "- `scipy.io.wavfile.write`: Saves the recorded audio into a `.wav` file.\n",
    "- `speech_recognition`: Transcribes audio into text using Google's Speech Recognition API.\n",
    "- `googletrans.Translator`: A translation engine that translates text between languages.\n",
    "- `gtts`: Google Text-to-Speech library that converts translated text into spoken audio.\n",
    "- `IPython.display`: Used to display audio and UI widgets within Jupyter Notebook.\n",
    "- `ipywidgets`: Enables interactive elements like buttons and text boxes.\n",
    "- `clear_output`: Clears previous output in a cell, useful for updating UI.\n",
    "\n",
    "**Initialization:**\n",
    "- `translator`: An instance of `Translator` to handle language translation.\n",
    "- `detected_lang`: A global variable to store the detected source language code (e.g., `'es'` for Spanish).\n",
    "- `audio_filename`: File path to save the recorded voice input (`voice_input.wav`).\n"
   ]
  },
  {
   "cell_type": "code",
   "execution_count": 1,
   "id": "af009963",
   "metadata": {},
   "outputs": [],
   "source": [
    "import os\n",
    "import sounddevice as sd\n",
    "from scipy.io.wavfile import write\n",
    "import speech_recognition as sr\n",
    "from googletrans import Translator\n",
    "from gtts import gTTS\n",
    "from IPython.display import Audio, display\n",
    "import ipywidgets as widgets\n",
    "from IPython.display import clear_output\n",
    "\n",
    "translator = Translator()\n",
    "detected_lang = ''\n",
    "audio_filename = \"voice_input.wav\"\n"
   ]
  },
  {
   "cell_type": "markdown",
   "id": "d86d62b6",
   "metadata": {},
   "source": [
    "## 🎤 Voice Recording with Interactive Buttons\n",
    "\n",
    "This section creates an interactive interface to start and stop voice recording using `ipywidgets`.\n",
    "\n",
    "### 🧩 Components:\n",
    "- `duration = 15`: Sets the maximum duration of recording to 15 seconds.\n",
    "- `recording = []`: Initializes a global list to store audio data.\n",
    "- `start_button`, `stop_button`: Two buttons for starting and stopping the recording respectively. The stop button is initially disabled.\n",
    "\n",
    "### 🛠️ Functions:\n",
    "- `start_recording(b)`: Triggered when the start button is clicked. Begins recording audio using `sounddevice.rec`, stores it in the `recording` variable, and enables the stop button.\n",
    "- `stop_recording(b)`: Triggered when the stop button is clicked. Stops the recording, writes it to `voice_input.wav`, and disables the stop button again.\n",
    "\n",
    "### 📤 Output Interface:\n",
    "- `output`: A text output widget that displays status messages like “Recording started...” and “Recording stopped.”\n",
    "- `display(widgets.HBox([...]))`: Renders the buttons horizontally.\n",
    "- `display(output)`: Shows the recording status below the buttons.\n",
    "\n",
    "This setup ensures a user-friendly and interactive voice recording experience directly in the notebook.\n"
   ]
  },
  {
   "cell_type": "code",
   "execution_count": 10,
   "id": "219068e5",
   "metadata": {},
   "outputs": [
    {
     "data": {
      "application/vnd.jupyter.widget-view+json": {
       "model_id": "eaf728de869c4d1e8eb60d00c0e8f082",
       "version_major": 2,
       "version_minor": 0
      },
      "text/plain": [
       "HBox(children=(Button(description='🎙️ Start Recording', style=ButtonStyle()), Button(description='⏹️ Stop Reco…"
      ]
     },
     "metadata": {},
     "output_type": "display_data"
    },
    {
     "data": {
      "application/vnd.jupyter.widget-view+json": {
       "model_id": "b269401607e549bf9c7c2120d2c03a4f",
       "version_major": 2,
       "version_minor": 0
      },
      "text/plain": [
       "Output()"
      ]
     },
     "metadata": {},
     "output_type": "display_data"
    }
   ],
   "source": [
    "duration =15  # Max duration in seconds\n",
    "recording = []\n",
    "\n",
    "start_button = widgets.Button(description=\"🎙️ Start Recording\")\n",
    "stop_button = widgets.Button(description=\"⏹️ Stop Recording\", disabled=True)\n",
    "output = widgets.Output()\n",
    "\n",
    "def start_recording(b):\n",
    "    global recording\n",
    "    with output:\n",
    "        clear_output()\n",
    "        print(\"Recording started...\")\n",
    "    recording = sd.rec(int(duration * 16000), samplerate=16000, channels=1, dtype='int16')\n",
    "    sd.wait()\n",
    "    stop_button.disabled = False\n",
    "\n",
    "def stop_recording(b):\n",
    "    with output:\n",
    "        clear_output()\n",
    "        print(\"Recording stopped.\")\n",
    "    write(audio_filename, 16000, recording)\n",
    "    stop_button.disabled = True\n",
    "\n",
    "start_button.on_click(start_recording)\n",
    "stop_button.on_click(stop_recording)\n",
    "\n",
    "display(widgets.HBox([start_button, stop_button]))\n",
    "display(output)\n"
   ]
  },
  {
   "cell_type": "markdown",
   "id": "015838c1",
   "metadata": {},
   "source": [
    "## 📝 Speech Recognition and Language Detection\n",
    "\n",
    "This block processes the recorded audio, converts it into text, detects the spoken language, and translates it into English.\n",
    "\n",
    "### 🛠️ Steps:\n",
    "- `recognizer = sr.Recognizer()`: Initializes the speech recognizer using the `speech_recognition` library.\n",
    "- `with sr.AudioFile(audio_filename) as source:`: Loads the saved audio file (`voice_input.wav`) for processing.\n",
    "- `recognizer.record(source)`: Reads the entire audio file into memory.\n",
    "\n",
    "### 🔍 Processing:\n",
    "- `recognizer.recognize_google(audio)`: Sends the audio to Google’s Web Speech API and retrieves the transcribed text.\n",
    "- `translator.translate(original_text, dest='en')`: Translates the transcribed text into English using the `googletrans` API.\n",
    "- `translated.src`: Automatically detects the original language and stores its language code (e.g., 'es' for Spanish) in `detected_lang`.\n",
    "\n",
    "### 📤 Output:\n",
    "- Displays:\n",
    "  - The original speech converted to text.\n",
    "  - The detected language.\n",
    "  - The translated English version of the speech.\n",
    "\n",
    "### ⚠️ Error Handling:\n",
    "- If any issue occurs during recognition or translation, it is caught and displayed as an error message.\n",
    "\n",
    "This step bridges the gap between spoken input and language understanding, setting the foundation for the translation-reply loop.\n"
   ]
  },
  {
   "cell_type": "code",
   "execution_count": 11,
   "id": "78c8304a",
   "metadata": {},
   "outputs": [
    {
     "name": "stdout",
     "output_type": "stream",
     "text": [
      "🗣️ Detected Speech: hola como estas hoy\n",
      "🌍 Detected Language: es\n",
      "🔤 Translated to English: Hello, how are you today\n"
     ]
    }
   ],
   "source": [
    "recognizer = sr.Recognizer()\n",
    "\n",
    "with sr.AudioFile(audio_filename) as source:\n",
    "    audio = recognizer.record(source)\n",
    "\n",
    "try:\n",
    "    original_text = recognizer.recognize_google(audio)\n",
    "    print(\"🗣️ Detected Speech:\", original_text)\n",
    "    translated = translator.translate(original_text, dest='en')\n",
    "    detected_lang = translated.src\n",
    "    print(\"🌍 Detected Language:\", detected_lang)\n",
    "    print(\"🔤 Translated to English:\", translated.text)\n",
    "except Exception as e:\n",
    "    print(\"❌ Error in recognition or translation:\", e)\n"
   ]
  },
  {
   "cell_type": "markdown",
   "id": "c6995749",
   "metadata": {},
   "source": [
    "## 💬 Reply Interface and Reverse Translation\n",
    "\n",
    "This section allows the user to respond in English, translates the reply back to the original detected language, and plays the translated audio.\n",
    "\n",
    "### 🧩 Components:\n",
    "- `widgets.Text`: Creates an input box for users to type their reply in English.\n",
    "- `widgets.Button`: A “Submit Reply” button that triggers the translation and audio response.\n",
    "\n",
    "### 🛠️ Function: `on_submit_reply(b)`\n",
    "- Clears previous outputs for clarity.\n",
    "- Retrieves the user's English reply from the text box.\n",
    "- Uses `googletrans` to translate the English text back into the originally detected language (stored in `detected_lang`).\n",
    "- Prints the reverse-translated text.\n",
    "- Converts the translated text into speech using `gTTS` (Google Text-to-Speech).\n",
    "- Saves the audio to `reply.mp3` and plays it inline using `IPython.display.Audio`.\n",
    "\n",
    "### 📤 Output:\n",
    "- Shows the user's English input.\n",
    "- Displays the translated version in the original language.\n",
    "- Plays the audio response of the translated reply.\n",
    "\n",
    "This final interaction loop completes the bidirectional communication, enabling multilingual voice interaction in real-time.\n"
   ]
  },
  {
   "cell_type": "code",
   "execution_count": 13,
   "id": "860a1056",
   "metadata": {},
   "outputs": [
    {
     "data": {
      "text/html": [
       "\n",
       "                <audio  controls=\"controls\" >\n",
       "                    <source src=\"data:audio/mpeg;base64,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\" type=\"audio/mpeg\" />\n",
       "                    Your browser does not support the audio element.\n",
       "                </audio>\n",
       "              "
      ],
      "text/plain": [
       "<IPython.lib.display.Audio object>"
      ]
     },
     "metadata": {},
     "output_type": "display_data"
    }
   ],
   "source": [
    "reply_input = widgets.Text(\n",
    "    placeholder='Type your reply in English...',\n",
    "    description='Reply:',\n",
    "    disabled=False\n",
    ")\n",
    "\n",
    "submit_button = widgets.Button(description=\"📤 Submit Reply\")\n",
    "\n",
    "def on_submit_reply(b):\n",
    "    clear_output(wait=True)\n",
    "    english_input = reply_input.value\n",
    "    print(\"📝 Your Reply:\", english_input)\n",
    "    translated_back = translator.translate(english_input, dest=detected_lang)\n",
    "    print(\"🔁 Translated Back:\", translated_back.text)\n",
    "    tts = gTTS(translated_back.text, lang=detected_lang)\n",
    "    tts.save(\"reply.mp3\")\n",
    "    display(Audio(\"reply.mp3\"))\n",
    "\n",
    "submit_button.on_click(on_submit_reply)\n",
    "\n",
    "display(reply_input, submit_button)\n"
   ]
  }
 ],
 "metadata": {
  "kernelspec": {
   "display_name": "Python 3",
   "language": "python",
   "name": "python3"
  },
  "language_info": {
   "codemirror_mode": {
    "name": "ipython",
    "version": 3
   },
   "file_extension": ".py",
   "mimetype": "text/x-python",
   "name": "python",
   "nbconvert_exporter": "python",
   "pygments_lexer": "ipython3",
   "version": "3.11.9"
  }
 },
 "nbformat": 4,
 "nbformat_minor": 5
}
